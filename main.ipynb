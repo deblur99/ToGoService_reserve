{
 "cells": [
  {
   "cell_type": "code",
   "execution_count": 38,
   "metadata": {},
   "outputs": [],
   "source": [
    "from selenium import webdriver\n",
    "import selenium.common.exceptions\n",
    "from datetime import datetime\n",
    "from selenium.webdriver.common.keys import Keys\n",
    "from selenium.webdriver.support.ui import WebDriverWait\n",
    "from selenium.webdriver.support import expected_conditions as EC"
   ]
  },
  {
   "cell_type": "code",
   "execution_count": 39,
   "metadata": {},
   "outputs": [],
   "source": [
    "def get_whitelist_from_user():\n",
    "    # retrieve user's whitelist\n",
    "    # elements of whitelist : device set, region list, city list\n",
    "    whitelist = list()\n",
    "    device = 0    \n",
    "    global region_list\n",
    "    \n",
    "    region_list = [\n",
    "        \"서울\",\n",
    "        \"경기/인천\",\n",
    "        \"충청/강원\",\n",
    "        \"경상/제주\",\n",
    "        \"전라\"\n",
    "    ]\n",
    "    \n",
    "    while True:\n",
    "        try:\n",
    "            # 1) select a devices \n",
    "            print(\"\")\n",
    "            print(\"-\"*20)\n",
    "            print(\"대여를 희망하는 기종을 하나 선택해주세요\")\n",
    "            print(\"1. Galaxy Z Flip 3\")\n",
    "            print(\"2. Galaxy Z Flip 3, Watch 4\")\n",
    "            print(\"3. Galaxy Z Flip 3, Watch 4 Classic\")\n",
    "            print(\"4. Galaxy Z Fold 3\")\n",
    "            print(\"5. Galaxy Z Fold 3, Watch 4\")\n",
    "            print(\"6. Galaxy Z Fold 3, Watch 4 Classic\")\n",
    "            print(\"Q. 종료\")\n",
    "            print(\"-\"*20)\n",
    "            print(\"\")\n",
    "            \n",
    "            decision = input(\"선택 : \")\n",
    "            \n",
    "            if (decision == \"Q\"):\n",
    "                return None\n",
    "            \n",
    "            decision = int(decision)\n",
    "            \n",
    "            if (decision < 1 or decision > 6):\n",
    "                raise ValueError\n",
    "                \n",
    "            whitelist.append(decision - 1)\n",
    "            \n",
    "            decision = str()\n",
    "            \n",
    "            # 2) select regions where you are willing to go\n",
    "            print(\"\")\n",
    "            print(\"-\"*20)\n",
    "            print(\"매장이 위치한 지역들 중 희망하는 지역을 선택해주세요\")\n",
    "            print(\"여러 지역을 선택할 수 있습니다. 각 선택지는 공백으로 구분됩니다.\")\n",
    "            print(\"1. 서울\")\n",
    "            print(\"2. 경기/인천\")\n",
    "            print(\"3. 충청/강원\")\n",
    "            print(\"4. 경상/제주\")\n",
    "            print(\"5. 전라\")\n",
    "            print(\"Q. 종료\")\n",
    "            print(\"-\"*20)\n",
    "            print(\"\")            \n",
    "            \n",
    "            # convert integer type element to string type element\n",
    "            decision = input(\"선택 : \")\n",
    "            \n",
    "            if (decision in \"Q\"):\n",
    "                return None\n",
    "            \n",
    "            decision = map(int, decision.split(\" \"))\n",
    "            \n",
    "            decision = list(map(lambda x: region_list[x - 1] if x >= 1 and x <= 5 else None, decision))\n",
    "            \n",
    "            whitelist.append(decision)\n",
    "\n",
    "            decision = str()\n",
    "            \n",
    "            # 3) specify city where you are really willing to go\n",
    "            print(\"\")\n",
    "            print(\"-\"*20)\n",
    "            print(\"우선적으로 방문하고자 하는 시를 입력하세요\")\n",
    "            print(\"여러 곳 입력 가능하며, 공백으로 각 시를 구분합니다.\")\n",
    "            print(\"Q를 입력 시 종료합니다.\")\n",
    "            print(\"-\"*20)\n",
    "            print(\"\")\n",
    "            \n",
    "            decision = input(\"선택 : \")\n",
    "            \n",
    "            if (decision == \"Q\"):\n",
    "                return None\n",
    "            \n",
    "            whitelist.append(decision.split(\" \"))\n",
    "        \n",
    "            return whitelist\n",
    "        \n",
    "        except:\n",
    "            print(\"입력 값을 확인해주세요.\")\n",
    "            break #debug\n",
    "            #continue"
   ]
  },
  {
   "cell_type": "code",
   "execution_count": 40,
   "metadata": {},
   "outputs": [],
   "source": [
    "# Open chromedriver where is your project directory and make it go to the desired website\n",
    "def get_web_driver(file_path):\n",
    "    driver = webdriver.Chrome(file_path)\n",
    "    driver.get(step1_url)\n",
    "    return driver # returns the webdriver instance"
   ]
  },
  {
   "cell_type": "code",
   "execution_count": 41,
   "metadata": {},
   "outputs": [],
   "source": [
    "# On the step 1 page, click \"Galaxy Z Flip 3\" banner and enter that step 2 page\n",
    "def go_to_desired_item_page(driver, desired_item_index):\n",
    "    links = driver.find_elements_by_css_selector(\".btn > img\")\n",
    "\n",
    "    # find a link about desired item among the button elements\n",
    "    link = links[desired_item_index]\n",
    "    link.click()\n",
    "    \n",
    "    # when alert screen is shown, click OK to go to the step 2 page.\n",
    "    try:\n",
    "        alert = driver.switch_to.alert\n",
    "        alert.accept()   # go to step 2 page\n",
    "\n",
    "    except selenium.common.exceptions.NoAlertPresentException:\n",
    "        print('Unable to get alert element on your driver.')\n",
    "    \n",
    "    finally:\n",
    "        return None"
   ]
  },
  {
   "cell_type": "code",
   "execution_count": 57,
   "metadata": {},
   "outputs": [],
   "source": [
    "def get_info_of_stores(driver, whitelist):\n",
    "    try:\n",
    "        # Check whether the current url is step 2 web page,\n",
    "        # then, get the all of links of regions\n",
    "        if driver.current_url == step2_url:\n",
    "            region_whitelist, city_whitelist = whitelist\n",
    "            store_info_lists = list()\n",
    "        else:\n",
    "            raise ValueError\n",
    "        \n",
    "        region_link_list = driver.find_elements_by_css_selector(\".location > .btn\")\n",
    "        \n",
    "        for region in region_list:\n",
    "            if region in region_whitelist:\n",
    "                driver.find_element_by_css_selector(f\".location > .btn:nth-child({region_list.index(region) + 1})\").click()\n",
    "                \n",
    "            \n",
    "        # 2) find city matches the context of whitelist\n",
    "            reserve_shops = driver.find_elements_by_css_selector(\".store_list > .list > li\")\n",
    "    \n",
    "            # Get info about stores what you want to go\n",
    "            for reserve_shop in reserve_shops:\n",
    "                store_info_list = list()\n",
    "\n",
    "                store_name = reserve_shop.find_element_by_css_selector(\"dl > dt\").get_attribute(\"innerText\")\n",
    "                store_address = reserve_shop.find_element_by_css_selector(\"dl > dd\").get_attribute(\"innerText\")\n",
    "                store_remaining = reserve_shop.find_element_by_css_selector(\".status > strong\").get_attribute(\"innerText\")[:-1]\n",
    "\n",
    "                store_info_list.append(store_name)\n",
    "                store_info_list.append(store_address)\n",
    "                store_info_list.append(store_remaining)\n",
    "\n",
    "                store_info_lists.append(store_info_list)           \n",
    "\n",
    "        return store_info_lists\n",
    "            \n",
    "    except:\n",
    "        print(\"An error occurred\")\n",
    "        return None"
   ]
  },
  {
   "cell_type": "code",
   "execution_count": null,
   "metadata": {},
   "outputs": [],
   "source": [
    "def await_until_vacancy(driver, store_info):\n",
    "'''\n",
    "# for finding activated button\n",
    "select_button = reserve_shop.find_element_by_css_selector(\".lnk > a:last-child\")\n",
    "print(select_button.get_attribute(\"innerText\"))\n",
    "\n",
    "# for noticing any vacant stores\n",
    "vacant_store = reserve_shop.find_element_by_css_selector(\"p.status > strong\").get_attribute(\"innerText\")\n",
    "if (vacant_store != \"0대\"):\n",
    "    print(datetime.now(), \"에 발견!\")\n",
    "''' \n",
    "    pass"
   ]
  },
  {
   "cell_type": "code",
   "execution_count": 58,
   "metadata": {},
   "outputs": [
    {
     "name": "stdout",
     "output_type": "stream",
     "text": [
      "\n",
      "--------------------\n",
      "대여를 희망하는 기종을 하나 선택해주세요\n",
      "1. Galaxy Z Flip 3\n",
      "2. Galaxy Z Flip 3, Watch 4\n",
      "3. Galaxy Z Flip 3, Watch 4 Classic\n",
      "4. Galaxy Z Fold 3\n",
      "5. Galaxy Z Fold 3, Watch 4\n",
      "6. Galaxy Z Fold 3, Watch 4 Classic\n",
      "Q. 종료\n",
      "--------------------\n",
      "\n"
     ]
    },
    {
     "name": "stdin",
     "output_type": "stream",
     "text": [
      "선택 :  1\n"
     ]
    },
    {
     "name": "stdout",
     "output_type": "stream",
     "text": [
      "\n",
      "--------------------\n",
      "매장이 위치한 지역들 중 희망하는 지역을 선택해주세요\n",
      "여러 지역을 선택할 수 있습니다. 각 선택지는 공백으로 구분됩니다.\n",
      "1. 서울\n",
      "2. 경기/인천\n",
      "3. 충청/강원\n",
      "4. 경상/제주\n",
      "5. 전라\n",
      "Q. 종료\n",
      "--------------------\n",
      "\n"
     ]
    },
    {
     "name": "stdin",
     "output_type": "stream",
     "text": [
      "선택 :  1 2 3\n"
     ]
    },
    {
     "name": "stdout",
     "output_type": "stream",
     "text": [
      "\n",
      "--------------------\n",
      "우선적으로 방문하고자 하는 시를 입력하세요\n",
      "여러 곳 입력 가능하며, 공백으로 각 시를 구분합니다.\n",
      "Q를 입력 시 종료합니다.\n",
      "--------------------\n",
      "\n"
     ]
    },
    {
     "name": "stdin",
     "output_type": "stream",
     "text": [
      "선택 :  용인\n"
     ]
    },
    {
     "name": "stdout",
     "output_type": "stream",
     "text": [
      "[['모바일스토어 하이마트 잠실점', '서울특별시 송파구 올림픽로 240 롯데마트 잠실점 1층', '0'], ['모바일스토어 하이마트 월드타워점', '서울특별시 송파구 올림픽로 300 롯데월드몰 3층', '0'], ['디지털프라자 삼성대치본점', '서울특별시 강남구 영동대로 237 1F', '0'], ['디지털프라자 강남본점', '서울특별시 강남구 도산대로 336 2F', '0'], ['디지털프라자 도곡점', '서울특별시 강남구 언주로 201 에스케이리더스뷰 1F', '0'], ['디지털프라자 서초본점', '서울특별시 서초구 서초대로52길 12(서초동) 1F', '0'], ['삼성딜라이트샵', '서울특별시 서초구 서초대로74길 11 삼성전자빌딩 지하1층', '0'], ['디지털프라자 홍대본점', '서울특별시 마포구 양화로 171 1F', '0'], ['디지털프라자 강서본점', '서울특별시 강서구 공항대로 571 1F', '0'], ['모바일스토어 일렉트로마트 영등포점', '서울특별시 영등포구 영중로 15 타임스퀘어 B1 일렉트로마트', '0'], ['디지털프라자 강북본점', '서울특별시 성북구 월계로 30 1F', '0'], ['KT플라자 강남역점', '서울특별시 강남구 테헤란로 120 1층', '0'], ['디지털프라자 일산본점', '경기도 고양시 일산동구 중앙로 1219 1F', '0'], ['디지털프라자 용인구성본점', '경기도 용인시 기흥구 용구대로 2458 1F', '0'], ['디지털프라자 부천중동본점', '경기도 부천시 길주로 254 1F', '0'], ['디지털프라자 안양본점', '경기도 안양시 동안구 시민대로 203 1F', '0'], ['모바일스토어 AK플라자 분당점', '경기도 성남시 분당구 황새울로360번길 42 AK플라자 1층', '0'], ['모바일스토어 현대백화점판교점', '경기도 성남시 분당구 판교역로146번길 20현대백화점 판교점 5층', '0'], ['모바일스토어 갤러리아광교점', '경기도 수원시 영통구 광교중앙로 124 6층', '0'], ['디지털프라자 연수송도본점', '인천시 연수구 경원대로 294 1F', '0'], ['디지털프라자 평택본점', '경기도 안성시 공도읍 서동대로 3864 1F', '0'], ['디지털프라자 용인기흥본점', '경기도 용인시 기흥구 신고매로 59 리빙파워센터 지하1층', '0'], ['디지털프라자 세종본점', '세종특별자치시 갈매로 58 황산프라자 1,2층', '0'], ['디지털프라자 중대전본점', '대전광역시 중구 계백로 1679 1F', '0'], ['디지털프라자 청주본점', '충청북도 청주시 서원구 1순환로 1066 1F', '1'], ['디지털프라자 세종본점', '세종특별자치시 갈매로 58 황산프라자 1,2층', '0'], ['디지털프라자 중대전본점', '대전광역시 중구 계백로 1679 1F', '0'], ['디지털프라자 청주본점', '충청북도 청주시 서원구 1순환로 1066 1F', '1'], ['디지털프라자 세종본점', '세종특별자치시 갈매로 58 황산프라자 1,2층', '0'], ['디지털프라자 중대전본점', '대전광역시 중구 계백로 1679 1F', '0'], ['디지털프라자 청주본점', '충청북도 청주시 서원구 1순환로 1066 1F', '1']]\n"
     ]
    }
   ],
   "source": [
    "file_path = \"C://Users//deblu//PycharmProjects//reserve_ToGo//chromedriver.exe\"\n",
    "global step1_url\n",
    "global step2_url\n",
    "\n",
    "step1_url = \"https://www.galaxytogo.co.kr/reservation/step1\"\n",
    "step2_url = \"https://www.galaxytogo.co.kr/reservation/step2\"\n",
    "\n",
    "whitelist = get_whitelist_from_user()\n",
    "\n",
    "if whitelist is not None:\n",
    "    driver = get_web_driver(file_path)\n",
    "    go_to_desired_item_page(driver, whitelist[0])\n",
    "    store_info = get_info_of_stores(driver, whitelist[1:])\n",
    "    print(store_info) # debug\n",
    "    \n",
    "    await_until_vacancy(driver, store_info)\n",
    "\n",
    "    driver.close()"
   ]
  }
 ],
 "metadata": {
  "kernelspec": {
   "display_name": "Python 3",
   "language": "python",
   "name": "python3"
  },
  "language_info": {
   "codemirror_mode": {
    "name": "ipython",
    "version": 3
   },
   "file_extension": ".py",
   "mimetype": "text/x-python",
   "name": "python",
   "nbconvert_exporter": "python",
   "pygments_lexer": "ipython3",
   "version": "3.8.5"
  }
 },
 "nbformat": 4,
 "nbformat_minor": 4
}
